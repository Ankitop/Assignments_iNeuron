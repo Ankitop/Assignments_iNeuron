{
 "cells": [
  {
   "cell_type": "raw",
   "metadata": {},
   "source": [
    "1. In the below elements which of them are values or an expression? eg:- values can be integer or string and expressions will be mathematical operators.\n",
    "\n",
    " \n",
    " \n",
    " * \n",
    " 'hello'\n",
    " -87.8\n",
    "  - \n",
    "  / \n",
    " \n",
    "\n",
    "  6 \n"
   ]
  },
  {
   "cell_type": "markdown",
   "metadata": {},
   "source": [
    "#SOLUTION 01\n",
    "\n",
    "Values  ->  'hello' ,  -87.8  ,  6\n",
    "\n",
    "Expressions  ->  *  ,  -  ,  /"
   ]
  },
  {
   "cell_type": "raw",
   "metadata": {},
   "source": []
  },
  {
   "cell_type": "raw",
   "metadata": {},
   "source": [
    "2. What is the difference between string and variable?"
   ]
  },
  {
   "cell_type": "markdown",
   "metadata": {},
   "source": [
    "#SOLUTION 02\n",
    "\n",
    "Variable -> A variable is used to store some kind of data/information onto a particular memory location.\n",
    "\n",
    "String  -> A string is a type of variable  which is used to store alphanumeric characters."
   ]
  },
  {
   "cell_type": "code",
   "execution_count": null,
   "metadata": {},
   "outputs": [],
   "source": []
  },
  {
   "cell_type": "raw",
   "metadata": {},
   "source": [
    "3. Describe three different data types."
   ]
  },
  {
   "cell_type": "markdown",
   "metadata": {},
   "source": [
    "#SOLUTION 03\n",
    "\n",
    "i) Integer -> it is a type of data which stores integers(numeric)  values.\n",
    "\n",
    "ii) Float -> it is a type of data which stores floating point (decimal) values.\n",
    "\n",
    "iii) String -> it is a type of data which stores alphanumeric (characters)  values.\n"
   ]
  },
  {
   "cell_type": "code",
   "execution_count": null,
   "metadata": {},
   "outputs": [],
   "source": []
  },
  {
   "cell_type": "raw",
   "metadata": {},
   "source": [
    "4. What is an expression made up of? What do all expressions do?"
   ]
  },
  {
   "cell_type": "markdown",
   "metadata": {},
   "source": [
    "#SOLUTION 04 \n",
    "\n",
    "Expressions are made up of variables , mathematical operators and also constants.\n",
    "Expressions basically evaluate to a value which can further be assigned to a variable.\n"
   ]
  },
  {
   "cell_type": "code",
   "execution_count": null,
   "metadata": {},
   "outputs": [],
   "source": []
  },
  {
   "cell_type": "raw",
   "metadata": {},
   "source": [
    "5. This assignment statements, like spam = 10. What is the difference between an expression and a statement?"
   ]
  },
  {
   "cell_type": "markdown",
   "metadata": {},
   "source": [
    "#SOLUTION 05\n",
    "\n",
    "Here  spam , 10 and = are different expressions and \n",
    "spam = 10 is a statement.\n",
    "\n",
    "An expression evaluates to a value, whereas a statement performs some action\n",
    "\n",
    "here the statement spam = 10 assigns the value 10 to the variable spam."
   ]
  },
  {
   "cell_type": "code",
   "execution_count": null,
   "metadata": {},
   "outputs": [],
   "source": []
  },
  {
   "cell_type": "raw",
   "metadata": {},
   "source": [
    "6. After running the following code, what does the variable bacon contain?\n",
    "bacon = 22\n",
    "bacon + 1\n"
   ]
  },
  {
   "cell_type": "markdown",
   "metadata": {},
   "source": [
    "#SOLUTION 06\n",
    "\n",
    "After running the above code, the value of the variable bacon remains 22.\n",
    "."
   ]
  },
  {
   "cell_type": "code",
   "execution_count": null,
   "metadata": {},
   "outputs": [],
   "source": []
  },
  {
   "cell_type": "raw",
   "metadata": {},
   "source": [
    "7. What should the values of the following two terms be?\n",
    "'spam' + 'spamspam'\n",
    "'spam' * 3\n"
   ]
  },
  {
   "cell_type": "markdown",
   "metadata": {},
   "source": [
    "#SOLUTION 07\n",
    "\n",
    "Both the two terms evaluate to the same value that is 'spamspamspam'"
   ]
  },
  {
   "cell_type": "code",
   "execution_count": null,
   "metadata": {},
   "outputs": [],
   "source": []
  },
  {
   "cell_type": "raw",
   "metadata": {},
   "source": [
    "8. Why is eggs a valid variable name while 100 is invalid?"
   ]
  },
  {
   "cell_type": "markdown",
   "metadata": {},
   "source": [
    "#SOLUTION 08\n",
    "\n",
    "100 is a invalid variable name as a variable name can't be initialized with a numeric value."
   ]
  },
  {
   "cell_type": "code",
   "execution_count": null,
   "metadata": {},
   "outputs": [],
   "source": []
  },
  {
   "cell_type": "raw",
   "metadata": {},
   "source": [
    "9. What three functions can be used to get the integer, floating-point number, or string version of a value?"
   ]
  },
  {
   "cell_type": "markdown",
   "metadata": {},
   "source": [
    "#SOLUTION 09\n",
    "\n",
    "integer -> int(value)\n",
    "\n",
    "floating-point -> float(value)\n",
    "\n",
    "string -> str(value)"
   ]
  },
  {
   "cell_type": "code",
   "execution_count": null,
   "metadata": {},
   "outputs": [],
   "source": []
  },
  {
   "cell_type": "raw",
   "metadata": {},
   "source": [
    "10. Why does this expression cause an error? How can you fix it?\n",
    "'I have eaten ' + 99 + ' burritos.'\n"
   ]
  },
  {
   "cell_type": "markdown",
   "metadata": {},
   "source": [
    "#SOLUTION 10\n",
    "\n",
    "this expression causes an error as we are trying to add a integer value to a string value.\n",
    "to fix this error, we will have to convert the integer into a string.\n",
    "\n",
    "\n",
    "'I have eaten ' + str(99) + ' burritos.'\n",
    "\n",
    "                or\n",
    "             \n",
    "\n",
    "'I have eaten ' + '99' + ' burritos.'\n",
    "\n"
   ]
  },
  {
   "cell_type": "code",
   "execution_count": null,
   "metadata": {},
   "outputs": [],
   "source": []
  }
 ],
 "metadata": {
  "kernelspec": {
   "display_name": "Python 3",
   "language": "python",
   "name": "python3"
  },
  "language_info": {
   "codemirror_mode": {
    "name": "ipython",
    "version": 3
   },
   "file_extension": ".py",
   "mimetype": "text/x-python",
   "name": "python",
   "nbconvert_exporter": "python",
   "pygments_lexer": "ipython3",
   "version": "3.8.5"
  }
 },
 "nbformat": 4,
 "nbformat_minor": 4
}
